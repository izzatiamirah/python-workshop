{
  "nbformat": 4,
  "nbformat_minor": 0,
  "metadata": {
    "colab": {
      "name": "variables.ipynb",
      "provenance": [],
      "authorship_tag": "ABX9TyO/ZgJSheVln9NkwXqNxpvj",
      "include_colab_link": true
    },
    "kernelspec": {
      "name": "python3",
      "display_name": "Python 3"
    },
    "language_info": {
      "name": "python"
    }
  },
  "cells": [
    {
      "cell_type": "markdown",
      "metadata": {
        "id": "view-in-github",
        "colab_type": "text"
      },
      "source": [
        "<a href=\"https://colab.research.google.com/github/izzatiamirah/python-workshop/blob/master/variables.ipynb\" target=\"_parent\"><img src=\"https://colab.research.google.com/assets/colab-badge.svg\" alt=\"Open In Colab\"/></a>"
      ]
    },
    {
      "cell_type": "markdown",
      "metadata": {
        "id": "KzpO6q7UF7xA"
      },
      "source": [
        "Exercise 1"
      ]
    },
    {
      "cell_type": "code",
      "metadata": {
        "colab": {
          "base_uri": "https://localhost:8080/"
        },
        "id": "uSnAxcKnFvb5",
        "outputId": "140a8687-a6ac-40da-8120-98d1e241e97a"
      },
      "source": [
        "print(11/3)"
      ],
      "execution_count": 2,
      "outputs": [
        {
          "output_type": "stream",
          "text": [
            "3.6666666666666665\n"
          ],
          "name": "stdout"
        }
      ]
    },
    {
      "cell_type": "code",
      "metadata": {
        "colab": {
          "base_uri": "https://localhost:8080/"
        },
        "id": "b5Sn_CqCFji2",
        "outputId": "50fd09fd-95ce-45a4-b64e-888da04e9187"
      },
      "source": [
        "(5+2)*(12/4)"
      ],
      "execution_count": 1,
      "outputs": [
        {
          "output_type": "execute_result",
          "data": {
            "text/plain": [
              "21.0"
            ]
          },
          "metadata": {
            "tags": []
          },
          "execution_count": 1
        }
      ]
    },
    {
      "cell_type": "code",
      "metadata": {
        "colab": {
          "base_uri": "https://localhost:8080/"
        },
        "id": "RdL9pqHRF0Wb",
        "outputId": "e76cdb63-e80c-4adf-d36b-c7736c4afc7f"
      },
      "source": [
        "print(11//3)"
      ],
      "execution_count": 3,
      "outputs": [
        {
          "output_type": "stream",
          "text": [
            "3\n"
          ],
          "name": "stdout"
        }
      ]
    },
    {
      "cell_type": "code",
      "metadata": {
        "colab": {
          "base_uri": "https://localhost:8080/"
        },
        "id": "hH6vyQ-PF2_a",
        "outputId": "81ca5478-493d-4055-f33d-b789da21a808"
      },
      "source": [
        "2**5"
      ],
      "execution_count": 4,
      "outputs": [
        {
          "output_type": "execute_result",
          "data": {
            "text/plain": [
              "32"
            ]
          },
          "metadata": {
            "tags": []
          },
          "execution_count": 4
        }
      ]
    },
    {
      "cell_type": "markdown",
      "metadata": {
        "id": "ftHVJ6miIL7S"
      },
      "source": [
        "Exercise 2"
      ]
    },
    {
      "cell_type": "code",
      "metadata": {
        "colab": {
          "base_uri": "https://localhost:8080/"
        },
        "id": "zlzBXTDHF5Pz",
        "outputId": "42fe78c5-19d1-4505-f9c6-82ec42a772bc"
      },
      "source": [
        "a=2\n",
        "a+=2\n",
        "print(a)"
      ],
      "execution_count": 11,
      "outputs": [
        {
          "output_type": "stream",
          "text": [
            "4\n"
          ],
          "name": "stdout"
        }
      ]
    },
    {
      "cell_type": "code",
      "metadata": {
        "colab": {
          "base_uri": "https://localhost:8080/"
        },
        "id": "3wB4M_0AHxKc",
        "outputId": "052f5a02-adf9-4e26-864c-663278bfc692"
      },
      "source": [
        "b=5\n",
        "a*=b\n",
        "print(b)"
      ],
      "execution_count": 12,
      "outputs": [
        {
          "output_type": "stream",
          "text": [
            "5\n"
          ],
          "name": "stdout"
        }
      ]
    },
    {
      "cell_type": "code",
      "metadata": {
        "colab": {
          "base_uri": "https://localhost:8080/"
        },
        "id": "b5SDhQH3H5fW",
        "outputId": "933fabd4-df9c-4503-a416-7272bd34f78a"
      },
      "source": [
        "c=10\n",
        "c**=b\n",
        "print(c)"
      ],
      "execution_count": 15,
      "outputs": [
        {
          "output_type": "stream",
          "text": [
            "100000\n"
          ],
          "name": "stdout"
        }
      ]
    },
    {
      "cell_type": "markdown",
      "metadata": {
        "id": "YdqovTrqJChX"
      },
      "source": [
        "Exercise 3"
      ]
    },
    {
      "cell_type": "code",
      "metadata": {
        "colab": {
          "base_uri": "https://localhost:8080/"
        },
        "id": "JP0Xp_VSIAM2",
        "outputId": "a841ec5b-0f1d-482f-9874-56c7f43472c8"
      },
      "source": [
        "a = 13%2\n",
        "b = 72%2\n",
        "c = 255%2\n",
        "\n",
        "print(a,b,c)"
      ],
      "execution_count": 17,
      "outputs": [
        {
          "output_type": "stream",
          "text": [
            "1 0 1\n"
          ],
          "name": "stdout"
        }
      ]
    },
    {
      "cell_type": "code",
      "metadata": {
        "colab": {
          "base_uri": "https://localhost:8080/"
        },
        "id": "tIxsEk_3JTIz",
        "outputId": "a4c5352c-9d0c-4f55-fdd7-e236ff15ac7d"
      },
      "source": [
        "a = 63\n",
        "50<a<100"
      ],
      "execution_count": 18,
      "outputs": [
        {
          "output_type": "execute_result",
          "data": {
            "text/plain": [
              "True"
            ]
          },
          "metadata": {
            "tags": []
          },
          "execution_count": 18
        }
      ]
    },
    {
      "cell_type": "markdown",
      "metadata": {
        "id": "20E8nkPaJssK"
      },
      "source": [
        "Exercise 4"
      ]
    },
    {
      "cell_type": "code",
      "metadata": {
        "colab": {
          "base_uri": "https://localhost:8080/"
        },
        "id": "9-2xs1GhJpXJ",
        "outputId": "bad47658-96b1-4083-ec15-59ee47c216f2"
      },
      "source": [
        "x=6\n",
        "1<=x and x<=7"
      ],
      "execution_count": 24,
      "outputs": [
        {
          "output_type": "execute_result",
          "data": {
            "text/plain": [
              "True"
            ]
          },
          "metadata": {
            "tags": []
          },
          "execution_count": 24
        }
      ]
    },
    {
      "cell_type": "code",
      "metadata": {
        "colab": {
          "base_uri": "https://localhost:8080/"
        },
        "id": "ef8kJ-tfJ1mp",
        "outputId": "e1ff19c2-b640-4654-d998-f80a37cb6afc"
      },
      "source": [
        "7<=x or x>=5"
      ],
      "execution_count": 25,
      "outputs": [
        {
          "output_type": "execute_result",
          "data": {
            "text/plain": [
              "True"
            ]
          },
          "metadata": {
            "tags": []
          },
          "execution_count": 25
        }
      ]
    },
    {
      "cell_type": "code",
      "metadata": {
        "colab": {
          "base_uri": "https://localhost:8080/"
        },
        "id": "4L_ddlyHKGyu",
        "outputId": "42571d3c-41fe-4e26-cda0-2bf328e0ed2c"
      },
      "source": [
        "not x<1"
      ],
      "execution_count": 26,
      "outputs": [
        {
          "output_type": "execute_result",
          "data": {
            "text/plain": [
              "True"
            ]
          },
          "metadata": {
            "tags": []
          },
          "execution_count": 26
        }
      ]
    },
    {
      "cell_type": "markdown",
      "metadata": {
        "id": "7tO3ZPakK12-"
      },
      "source": [
        "Exercise 5\n"
      ]
    },
    {
      "cell_type": "code",
      "metadata": {
        "id": "2HMmoKiWKQj5"
      },
      "source": [
        "a = [4,5,6] \n",
        "b = [4,5,6]"
      ],
      "execution_count": 32,
      "outputs": []
    },
    {
      "cell_type": "code",
      "metadata": {
        "colab": {
          "base_uri": "https://localhost:8080/"
        },
        "id": "UqCQwjf6LB_8",
        "outputId": "68f27bab-70a7-4776-8d7f-b4024062d1ce"
      },
      "source": [
        "a==b"
      ],
      "execution_count": 33,
      "outputs": [
        {
          "output_type": "execute_result",
          "data": {
            "text/plain": [
              "True"
            ]
          },
          "metadata": {
            "tags": []
          },
          "execution_count": 33
        }
      ]
    },
    {
      "cell_type": "code",
      "metadata": {
        "colab": {
          "base_uri": "https://localhost:8080/"
        },
        "id": "aIhl1Gd0LGJG",
        "outputId": "9267f3e6-84a2-41a4-c4af-21f3ba024cd6"
      },
      "source": [
        "a is b"
      ],
      "execution_count": 34,
      "outputs": [
        {
          "output_type": "execute_result",
          "data": {
            "text/plain": [
              "False"
            ]
          },
          "metadata": {
            "tags": []
          },
          "execution_count": 34
        }
      ]
    },
    {
      "cell_type": "code",
      "metadata": {
        "colab": {
          "base_uri": "https://localhost:8080/"
        },
        "id": "4S8kfOqXLHhg",
        "outputId": "73392008-e31d-41d2-bd4a-a873fec12d39"
      },
      "source": [
        "a is not b"
      ],
      "execution_count": 35,
      "outputs": [
        {
          "output_type": "execute_result",
          "data": {
            "text/plain": [
              "True"
            ]
          },
          "metadata": {
            "tags": []
          },
          "execution_count": 35
        }
      ]
    },
    {
      "cell_type": "code",
      "metadata": {
        "colab": {
          "base_uri": "https://localhost:8080/"
        },
        "id": "vPIgmAZeLdm5",
        "outputId": "a05e8301-c2a8-407f-c4ae-abb95d893aaf"
      },
      "source": [
        "a = [4,5,6]\n",
        "b = a\n",
        "a is b"
      ],
      "execution_count": 39,
      "outputs": [
        {
          "output_type": "execute_result",
          "data": {
            "text/plain": [
              "True"
            ]
          },
          "metadata": {
            "tags": []
          },
          "execution_count": 39
        }
      ]
    },
    {
      "cell_type": "code",
      "metadata": {
        "colab": {
          "base_uri": "https://localhost:8080/"
        },
        "id": "pkoVOcUHLJQd",
        "outputId": "71f63b25-f602-4351-c5bc-f7d2bbd1edc5"
      },
      "source": [
        "a in b"
      ],
      "execution_count": 40,
      "outputs": [
        {
          "output_type": "execute_result",
          "data": {
            "text/plain": [
              "False"
            ]
          },
          "metadata": {
            "tags": []
          },
          "execution_count": 40
        }
      ]
    },
    {
      "cell_type": "code",
      "metadata": {
        "colab": {
          "base_uri": "https://localhost:8080/"
        },
        "id": "WKgP1muaLVOX",
        "outputId": "9e04aff7-8c1b-4221-af18-e5a549c9148f"
      },
      "source": [
        "a not in b"
      ],
      "execution_count": 41,
      "outputs": [
        {
          "output_type": "execute_result",
          "data": {
            "text/plain": [
              "True"
            ]
          },
          "metadata": {
            "tags": []
          },
          "execution_count": 41
        }
      ]
    },
    {
      "cell_type": "code",
      "metadata": {
        "colab": {
          "base_uri": "https://localhost:8080/"
        },
        "id": "V-oca9vcLWwu",
        "outputId": "05fa19b3-e513-485e-ea79-5ada01b95bdf"
      },
      "source": [
        "4 in a"
      ],
      "execution_count": 42,
      "outputs": [
        {
          "output_type": "execute_result",
          "data": {
            "text/plain": [
              "True"
            ]
          },
          "metadata": {
            "tags": []
          },
          "execution_count": 42
        }
      ]
    },
    {
      "cell_type": "code",
      "metadata": {
        "colab": {
          "base_uri": "https://localhost:8080/"
        },
        "id": "PQ3dc0mkL84C",
        "outputId": "20fd6818-c2e2-4fc6-a18a-7729a00af080"
      },
      "source": [
        "5 not in a"
      ],
      "execution_count": 43,
      "outputs": [
        {
          "output_type": "execute_result",
          "data": {
            "text/plain": [
              "False"
            ]
          },
          "metadata": {
            "tags": []
          },
          "execution_count": 43
        }
      ]
    },
    {
      "cell_type": "code",
      "metadata": {
        "id": "LqyirSynL_en"
      },
      "source": [
        ""
      ],
      "execution_count": null,
      "outputs": []
    }
  ]
}